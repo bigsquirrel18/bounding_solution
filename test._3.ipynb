{
 "cells": [
  {
   "cell_type": "code",
   "execution_count": 217,
   "metadata": {},
   "outputs": [],
   "source": [
    "from tqdm import tqdm\n",
    "import numpy as np\n",
    "from matplotlib import pyplot as plt\n",
    "import  csv\n",
    "import os"
   ]
  },
  {
   "cell_type": "code",
   "execution_count": 246,
   "metadata": {},
   "outputs": [],
   "source": [
    "# rect [x1, x2, y1, y2]\n",
    "def area(rect):\n",
    "    return np.absolute(rect[0] - rect[1]) * np.absolute(rect[2] - rect[3])\n",
    "\n",
    "# points (n, 2)\n",
    "def point_in_rect(rect, points):\n",
    "    x, y = points[..., 0], points[..., 1]  # (n)\n",
    "    return ((((rect[0] <= x) & (x <= rect[1])) | ((rect[1] <= x) & (x <= rect[0]))) & (((rect[2] <= y) & (y <= rect[3])) | ((rect[3] <= y) & (y <= rect[2]))))\n",
    "\n",
    "def show_rect(rects=[], points=[]):\n",
    "    _, ax = plt.subplots()\n",
    "    for point in points:\n",
    "        ax.scatter(point[:, 0], point[:, 1])\n",
    "    for rect in rects:\n",
    "        box = plt.Rectangle((rect[0], rect[2]), rect[1] - rect[0], rect[3] - rect[2], fill=False, edgecolor = 'red', linewidth=1)\n",
    "        ax.add_patch(box)\n",
    "    ax.set_aspect(1)\n",
    "    plt.show()\n",
    "    \n",
    "def binary_grid(points, bbox):\n",
    "    l, r, b, u = bbox\n",
    "    m, n = int(round((r-l)/0.01)), int(round((u-b)/0.01))\n",
    "    grid = np.zeros((n, m))\n",
    "    ind = point_in_rect(bbox, points)\n",
    "    points = points[ind]\n",
    "    idx = np.floor(points * 100) / 100\n",
    "    idx[:, 0] = ((idx[:, 0] - l) / 0.01)\n",
    "    idx[:, 1] = ((idx[:, 1] - b) / 0.01)\n",
    "    idx = np.round(idx).astype(np.int32)\n",
    "    grid[idx[:, 1], idx[:, 0]] = 1\n",
    "\n",
    "    return 1 - grid\n",
    "\n",
    "def find_max_area(grid):\n",
    "    histogram = np.zeros_like(grid)\n",
    "    histogram[0] = grid[0]\n",
    "    for i in range(1, len(grid)):\n",
    "        histogram[i] = grid[i] * (grid[i] + histogram[i-1])\n",
    "\n",
    "    def largestRectangleArea(heights):\n",
    "        heights = [0] + heights + [0]\n",
    "        l = len(heights)\n",
    "        stack = [0]\n",
    "        max_area = 0\n",
    "        for i in range(1, l):\n",
    "            while heights[i] < heights[stack[-1]]:\n",
    "                temp_area = heights[stack[-1]] * (i - stack[-2] - 1)\n",
    "                if temp_area > max_area:\n",
    "                    max_area = temp_area\n",
    "                    cur_inf = (heights[stack[-1]], stack[-2], i-1)\n",
    "                stack.pop()\n",
    "            stack.append(i)\n",
    "        return max_area, cur_inf\n",
    "    \n",
    "    max_area = 0\n",
    "    for i in range(len(histogram)):\n",
    "        temp_area, (h, start, end) = largestRectangleArea(histogram[i].tolist())\n",
    "        if temp_area > max_area:\n",
    "            max_area = temp_area\n",
    "            cur_inf = (i+1-h, i+1, start, end)  # [up, bottom, start, end]    bottom, end 取不到\n",
    "    \n",
    "    return max_area, cur_inf\n",
    "    \n",
    "def convert_rect(cur_inf, lb_corner):\n",
    "    up, bottom, start, end = cur_inf\n",
    "    l, b = lb_corner\n",
    "    l_rst = np.round(l + 0.01*start, 2)\n",
    "    r_rst = np.round(l + 0.01*end, 2)\n",
    "    u_rst = np.round(b + 0.01*bottom, 2)\n",
    "    b_rst = np.round(b + 0.01*up, 2)\n",
    "\n",
    "    return [l_rst, r_rst, b_rst, u_rst]\n",
    "\n",
    "def find_connected_regions(grid):\n",
    "    connected_regions = []\n",
    "    rst_final = []\n",
    "    m, n = grid.shape\n",
    "    seen = set()\n",
    "\n",
    "    def dfs(root):\n",
    "        i, j = root\n",
    "        seen.add((i, j))\n",
    "        stack = [(i, j)]\n",
    "        rst = []\n",
    "        while stack:\n",
    "            i, j = stack.pop()\n",
    "            rst.append([i, j])\n",
    "            if i-1 >= 0 and grid[i-1][j] == 0 and (i-1, j) not in seen:\n",
    "                stack.append((i-1, j))\n",
    "                seen.add((i-1, j))\n",
    "            if i+1 <= m-1 and grid[i+1][j] == 0 and (i+1, j) not in seen:\n",
    "                stack.append((i+1, j))\n",
    "                seen.add((i+1, j))\n",
    "            if j-1 >= 0 and grid[i][j-1] == 0 and (i, j-1) not in seen:\n",
    "                stack.append((i, j-1))\n",
    "                seen.add((i, j-1))\n",
    "            if j+1 <= n-1 and grid[i][j+1] == 0 and (i, j+1) not in seen:\n",
    "                stack.append((i, j+1))\n",
    "                seen.add((i, j+1))\n",
    "        return rst\n",
    "    \n",
    "    for i in range(m):\n",
    "        for j in range(n):\n",
    "            if grid[i][j] == 0 and (i, j) not in seen:\n",
    "                connected_regions.append(dfs((i, j)))\n",
    "    for region in connected_regions:\n",
    "        rst_final.append(np.array(region))\n",
    "    return rst_final\n",
    "\n",
    "def clustering(regions, dist):\n",
    "    def _distance(region1, region2):\n",
    "        return (((region1.mean(0) - region2.mean(0))**2).sum())**0.5\n",
    "    new_regions = regions[:]\n",
    "    rst = [new_regions.pop(0)]\n",
    "    while new_regions:\n",
    "        flag = False\n",
    "        for i, region in enumerate(new_regions):\n",
    "            if  _distance(rst[-1], region) < dist:\n",
    "                rst[-1] = np.concatenate((rst[-1], new_regions.pop(i)), 0)\n",
    "                flag = True\n",
    "                break\n",
    "        if not flag:\n",
    "            rst.append(new_regions.pop(0))\n",
    "    return rst"
   ]
  },
  {
   "cell_type": "code",
   "execution_count": 219,
   "metadata": {},
   "outputs": [
    {
     "name": "stderr",
     "output_type": "stream",
     "text": [
      "100%|██████████| 436424/436424 [00:01<00:00, 371758.64it/s]\n"
     ]
    }
   ],
   "source": [
    "xyz_cls = []\n",
    "with open('rst_subsample.xyz', 'r', encoding='utf-8') as f:\n",
    "    for ann in tqdm(f.readlines()):\n",
    "        ann = ann.strip('\\n').split(' ')\n",
    "        xyz_cls.append([float(ann[0]), float(ann[1]), float(ann[2]), int(float(ann[4]))])\n",
    "xyz_cls = np.array(xyz_cls)"
   ]
  },
  {
   "cell_type": "code",
   "execution_count": 220,
   "metadata": {},
   "outputs": [],
   "source": [
    "cls_dict = {\n",
    "    0: \"wall\",\n",
    "    1: \"ceil\",\n",
    "    2: \"floor\",\n",
    "    3: \"column\",\n",
    "    4: \"beam\",\n",
    "    5: \"tube\",\n",
    "    6: \"window\"\n",
    "}\n",
    "\n",
    "dir_path = 'C:\\\\Users\\\\Big squirrel\\\\Desktop\\\\bishe\\\\codes\\\\xyz_cls_2'"
   ]
  },
  {
   "attachments": {},
   "cell_type": "markdown",
   "metadata": {},
   "source": [
    "## 墙"
   ]
  },
  {
   "cell_type": "code",
   "execution_count": 248,
   "metadata": {},
   "outputs": [
    {
     "name": "stderr",
     "output_type": "stream",
     "text": [
      "100%|██████████| 30/30 [00:03<00:00,  7.89it/s]\n"
     ]
    }
   ],
   "source": [
    "divide = 30\n",
    "# rect_angel = []\n",
    "max_area = 0\n",
    "wall = xyz_cls[xyz_cls[:,3] == 0][:,0:2]\n",
    "for i in tqdm(np.linspace(0, 15, divide)):\n",
    "    theta = -i\n",
    "    rotate_matrix = np.array(\n",
    "        [\n",
    "            [np.cos(np.pi * theta/180), -np.sin(np.pi * theta/180)],\n",
    "            [np.sin(np.pi * theta/180), np.cos(np.pi * theta/180)]\n",
    "        ]\n",
    "    )\n",
    "    rotated_wall = (rotate_matrix @ wall.T).T\n",
    "    l, b = np.floor(rotated_wall.min(0) * 100) / 100\n",
    "    r, u = np.ceil(rotated_wall.max(0) * 100) / 100\n",
    "    bbox = (l, r, b, u)\n",
    "    grid = binary_grid(rotated_wall, bbox)\n",
    "    _, cur_inf = find_max_area(grid)\n",
    "    rect = convert_rect(cur_inf, (l, b))\n",
    "    temp_area = area(rect)\n",
    "    if temp_area > max_area:\n",
    "        max_area = temp_area\n",
    "        cur = [rect, rotate_matrix.copy()]\n",
    "wall_bound, rotate_matrix = cur\n",
    "    "
   ]
  },
  {
   "cell_type": "code",
   "execution_count": 249,
   "metadata": {},
   "outputs": [
    {
     "data": {
      "text/plain": [
       "[[-2.13, 2.1, -1.46, 1.3],\n",
       " array([[ 0.98374484,  0.17957194],\n",
       "        [-0.17957194,  0.98374484]])]"
      ]
     },
     "execution_count": 249,
     "metadata": {},
     "output_type": "execute_result"
    }
   ],
   "source": [
    "cur"
   ]
  },
  {
   "cell_type": "code",
   "execution_count": 250,
   "metadata": {},
   "outputs": [],
   "source": [
    "# 旋转所有点云，新坐标系\n",
    "rotate_matrix_3d = np.eye(3)\n",
    "rotate_matrix_3d[:2,:2] = rotate_matrix\n",
    "xyz_cls_new = xyz_cls.copy()\n",
    "xyz_cls_new[:, :3] = (rotate_matrix_3d @ xyz_cls[:, :3].T).T"
   ]
  },
  {
   "cell_type": "code",
   "execution_count": 251,
   "metadata": {},
   "outputs": [
    {
     "data": {
      "image/png": "[encoded data removed]",
      "text/plain": [
       "<Figure size 432x288 with 1 Axes>"
      ]
     },
     "metadata": {
      "needs_background": "light"
     },
     "output_type": "display_data"
    }
   ],
   "source": [
    "wall = xyz_cls_new[xyz_cls_new[:,3] == 0][:,0:2]\n",
    "show_rect([wall_bound], [wall])"
   ]
  },
  {
   "cell_type": "code",
   "execution_count": 229,
   "metadata": {},
   "outputs": [
    {
     "data": {
      "text/plain": [
       "0"
      ]
     },
     "execution_count": 229,
     "metadata": {},
     "output_type": "execute_result"
    }
   ],
   "source": [
    "(point_in_rect(wall_bound, wall)).sum()"
   ]
  },
  {
   "attachments": {},
   "cell_type": "markdown",
   "metadata": {},
   "source": [
    "## 天花、地面"
   ]
  },
  {
   "cell_type": "code",
   "execution_count": 252,
   "metadata": {},
   "outputs": [
    {
     "name": "stdout",
     "output_type": "stream",
     "text": [
      "天花： 3.84\n",
      "地面： -0.27\n"
     ]
    }
   ],
   "source": [
    "ceil = xyz_cls_new[xyz_cls[:,3] == 1][:,0:3]\n",
    "floor = xyz_cls_new[xyz_cls[:,3] == 2][:,0:3]\n",
    "ceil_bound = np.floor(ceil[:,2].min() * 100) / 100\n",
    "floor_bound = np.ceil(floor[:,2].max() * 100) / 100\n",
    "print(\"天花：\", ceil_bound)\n",
    "print(\"地面：\", floor_bound)\n"
   ]
  },
  {
   "attachments": {},
   "cell_type": "markdown",
   "metadata": {},
   "source": [
    "## 梁"
   ]
  },
  {
   "cell_type": "code",
   "execution_count": 253,
   "metadata": {},
   "outputs": [
    {
     "data": {
      "image/png": "[encoded data removed]",
      "text/plain": [
       "<Figure size 432x288 with 1 Axes>"
      ]
     },
     "metadata": {
      "needs_background": "light"
     },
     "output_type": "display_data"
    }
   ],
   "source": [
    "beam = xyz_cls_new[xyz_cls[:,3] == 4][:,0:3]\n",
    "grid = binary_grid(beam, wall_bound)\n",
    "_, cur_inf = find_max_area(grid)\n",
    "beam_bound = convert_rect(cur_inf, (wall_bound[0], wall_bound[2]))\n",
    "show_rect([wall_bound, beam_bound], [wall, beam])"
   ]
  },
  {
   "cell_type": "code",
   "execution_count": 189,
   "metadata": {},
   "outputs": [
    {
     "data": {
      "text/plain": [
       "0"
      ]
     },
     "execution_count": 189,
     "metadata": {},
     "output_type": "execute_result"
    }
   ],
   "source": [
    "(point_in_rect(beam_bound, beam)).sum()"
   ]
  },
  {
   "cell_type": "code",
   "execution_count": 255,
   "metadata": {},
   "outputs": [
    {
     "data": {
      "text/plain": [
       "[-2.13, 2.1, -1.44, 1.3]"
      ]
     },
     "execution_count": 255,
     "metadata": {},
     "output_type": "execute_result"
    }
   ],
   "source": [
    "beam_bound"
   ]
  },
  {
   "cell_type": "code",
   "execution_count": 245,
   "metadata": {},
   "outputs": [
    {
     "name": "stdout",
     "output_type": "stream",
     "text": [
      "梁底： 3.41\n"
     ]
    }
   ],
   "source": [
    "beam_bottom_bound = np.floor(beam[:,2].min() * 100) / 100\n",
    "print(\"梁底：\", beam_bottom_bound)"
   ]
  },
  {
   "attachments": {},
   "cell_type": "markdown",
   "metadata": {},
   "source": [
    "## 柱子"
   ]
  },
  {
   "cell_type": "code",
   "execution_count": 232,
   "metadata": {},
   "outputs": [],
   "source": [
    "column = xyz_cls_new[xyz_cls[:,3] == 3][:,0:3]\n",
    "grid = binary_grid(column, wall_bound)\n",
    "# 求连通域\n",
    "connected_regions = find_connected_regions(grid)\n",
    "# 聚类\n",
    "columns = clustering(connected_regions, 30)\n",
    "# 每个簇的最小外接矩形\n",
    "column_bounds = []\n",
    "for col in columns:\n",
    "    up, start = col.min(0)\n",
    "    bottom, end = col.max(0) + 1\n",
    "    column_bound = convert_rect((up, bottom, start, end), (wall_bound[0], wall_bound[2]))\n",
    "    column_bounds.append(column_bound)"
   ]
  },
  {
   "cell_type": "code",
   "execution_count": 254,
   "metadata": {},
   "outputs": [
    {
     "data": {
      "image/png": "[encoded data removed]",
      "text/plain": [
       "<Figure size 432x288 with 1 Axes>"
      ]
     },
     "metadata": {
      "needs_background": "light"
     },
     "output_type": "display_data"
    }
   ],
   "source": [
    "bounds = [wall_bound]\n",
    "bounds.extend(column_bounds)\n",
    "objects = [wall]\n",
    "objects.append(column)\n",
    "show_rect(bounds, objects)"
   ]
  },
  {
   "cell_type": "code",
   "execution_count": 257,
   "metadata": {},
   "outputs": [
    {
     "data": {
      "text/plain": [
       "[[-2.13, 2.1, -1.46, 1.3], [1.87, 2.1, 1.05, 1.3]]"
      ]
     },
     "execution_count": 257,
     "metadata": {},
     "output_type": "execute_result"
    }
   ],
   "source": [
    "bounds"
   ]
  },
  {
   "attachments": {},
   "cell_type": "markdown",
   "metadata": {},
   "source": [
    "## 窗户"
   ]
  },
  {
   "cell_type": "code",
   "execution_count": 243,
   "metadata": {},
   "outputs": [],
   "source": [
    "filter = xyz_cls_new[xyz_cls_new[:,3] == 0][:, 0] < xyz_cls_new[xyz_cls_new[:,3] == 0][:, 0].mean()\n",
    "window = xyz_cls_new[xyz_cls_new[:,3] == 0][filter][:, 1:3]"
   ]
  },
  {
   "cell_type": "code",
   "execution_count": 259,
   "metadata": {},
   "outputs": [
    {
     "data": {
      "image/png": "[encoded data removed]",
      "text/plain": [
       "<Figure size 432x288 with 1 Axes>"
      ]
     },
     "metadata": {
      "needs_background": "light"
     },
     "output_type": "display_data"
    }
   ],
   "source": [
    "l, r, b, u = wall_bound[2], wall_bound[3], floor_bound, ceil_bound\n",
    "grid = binary_grid(window, (l, r, b, u))\n",
    "_, cur_inf = find_max_area(grid)\n",
    "window_bound = convert_rect(cur_inf, (l, b))\n",
    "show_rect([window_bound], [window])"
   ]
  },
  {
   "cell_type": "code",
   "execution_count": 260,
   "metadata": {},
   "outputs": [
    {
     "data": {
      "text/plain": [
       "[-0.94, 1.04, 0.65, 2.94]"
      ]
     },
     "execution_count": 260,
     "metadata": {},
     "output_type": "execute_result"
    }
   ],
   "source": [
    "window_bound"
   ]
  },
  {
   "attachments": {},
   "cell_type": "markdown",
   "metadata": {},
   "source": [
    "## 写入数据"
   ]
  },
  {
   "cell_type": "code",
   "execution_count": 261,
   "metadata": {},
   "outputs": [],
   "source": [
    "if not os.path.exists(dir_path):\n",
    "    os.mkdir(dir_path)\n",
    "\n",
    "for i in range(len(cls_dict)):\n",
    "    data = xyz_cls_new[xyz_cls_new[:,3] == i][:,0:3] * 100\n",
    "    with open(dir_path + f'\\\\{cls_dict[i]}.csv', 'w', encoding='UTF8', newline='') as f:\n",
    "        writer = csv.writer(f)\n",
    "        writer.writerows(data)"
   ]
  },
  {
   "attachments": {},
   "cell_type": "markdown",
   "metadata": {},
   "source": [
    "## 模拟退火"
   ]
  },
  {
   "cell_type": "code",
   "execution_count": 56,
   "metadata": {},
   "outputs": [],
   "source": [
    "T = 1  # 初始温度\n",
    "std = 1e-30  # 终止温度\n",
    "a = 0.999  # 衰减率\n",
    "rect = np.array([-1,1,-0.5,0.5])\n",
    "bbox = [-1.5,1.5,1,-1.5]\n",
    "\n",
    "while T > std:\n",
    "    area_temp = area(rect)\n",
    "    # # 新值通过扰动产生\n",
    "    # rect_new = np.copy(rect)\n",
    "    # idx = int(np.random.randint(0, 3, 1))\n",
    "    # rect_new[idx] = rect_new[idx] + np.random.randint(-3, 3, 1) * 0.01\n",
    "    # # rect_new[0::2] = rect_new[0::2] + np.random.randint(-3, 1, 2) * 0.01\n",
    "    # # rect_new[1::2] = rect_new[1::2] + np.random.randint(-1, 3, 2) * 0.01\n",
    "    rect_new = rect + np.random.randint(-2, 2, 4) * 0.01\n",
    "    if not point_in_rect(rect_new, wall) and point_in_rect(bbox, rect_new.reshape(2,2).mean(-1)):\n",
    "        area_new = area(rect_new)\n",
    "        if area_new > area_temp:\n",
    "            rect = rect_new\n",
    "        else:\n",
    "            p = np.exp((area_new - area_temp) / T)\n",
    "            r = np.random.uniform(0, 1)\n",
    "            if p > r:\n",
    "               rect = rect_new\n",
    "    T = T * a"
   ]
  },
  {
   "cell_type": "code",
   "execution_count": 59,
   "metadata": {},
   "outputs": [
    {
     "data": {
      "text/plain": [
       "array([-1.92,  0.55, -1.42,  0.98])"
      ]
     },
     "execution_count": 59,
     "metadata": {},
     "output_type": "execute_result"
    }
   ],
   "source": [
    "rect"
   ]
  },
  {
   "cell_type": "code",
   "execution_count": 57,
   "metadata": {},
   "outputs": [
    {
     "data": {
      "text/plain": [
       "5.928000000000005"
      ]
     },
     "execution_count": 57,
     "metadata": {},
     "output_type": "execute_result"
    }
   ],
   "source": [
    "area(rect)"
   ]
  },
  {
   "cell_type": "code",
   "execution_count": 52,
   "metadata": {},
   "outputs": [
    {
     "data": {
      "text/plain": [
       "False"
      ]
     },
     "execution_count": 52,
     "metadata": {},
     "output_type": "execute_result"
    }
   ],
   "source": [
    "point_in_rect(rect, wall)"
   ]
  },
  {
   "cell_type": "code",
   "execution_count": 58,
   "metadata": {},
   "outputs": [
    {
     "data": {
      "text/plain": [
       "<matplotlib.collections.PathCollection at 0x1a940125d90>"
      ]
     },
     "execution_count": 58,
     "metadata": {},
     "output_type": "execute_result"
    },
    {
     "data": {
      "image/png": "[encoded data removed]",
      "text/plain": [
       "<Figure size 432x288 with 1 Axes>"
      ]
     },
     "metadata": {
      "needs_background": "light"
     },
     "output_type": "display_data"
    }
   ],
   "source": [
    "plt.scatter(x, y)\n",
    "plt.scatter([rect[0], rect[0], rect[1], rect[1]], [rect[2], rect[3], rect[2], rect[3]])\n",
    "plt.scatter([bbox[0], bbox[0], bbox[1], bbox[1]], [bbox[2], bbox[3], bbox[2], bbox[3]])"
   ]
  }
 ],
 "metadata": {
  "kernelspec": {
   "display_name": "base",
   "language": "python",
   "name": "python3"
  },
  "language_info": {
   "codemirror_mode": {
    "name": "ipython",
    "version": 3
   },
   "file_extension": ".py",
   "mimetype": "text/x-python",
   "name": "python",
   "nbconvert_exporter": "python",
   "pygments_lexer": "ipython3",
   "version": "3.8.8"
  },
  "orig_nbformat": 4
 },
 "nbformat": 4,
 "nbformat_minor": 2
}
